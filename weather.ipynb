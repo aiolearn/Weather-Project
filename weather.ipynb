{
 "cells": [
  {
   "cell_type": "markdown",
   "metadata": {},
   "source": [
    "## J4"
   ]
  },
  {
   "cell_type": "markdown",
   "metadata": {},
   "source": [
    "### Documentation"
   ]
  },
  {
   "cell_type": "code",
   "execution_count": null,
   "metadata": {},
   "outputs": [],
   "source": [
    "\"\"\"\n",
    "Importing Libraries:\n",
    "    import requests: Used for making HTTP requests.\n",
    "    from pyowm import OWM: PyOWM is a Python wrapper around the OpenWeatherMap web API.\n",
    "\n",
    "\n",
    "API Key and Base URL:\n",
    "        api_key: Your OpenWeatherMap API key.\n",
    "        base_url: The base URL for OpenWeatherMap API.\n",
    "        \n",
    "\n",
    "User Input:\n",
    "    city_name: Get the city name from the user.\n",
    "\n",
    "\n",
    "Building API Request URL:\n",
    "    complete_url: Construct the complete URL for the OpenWeatherMap API request.\n",
    "\n",
    "\n",
    "API Request and JSON Parsing:\n",
    "    response: Make a request to the OpenWeatherMap API.\n",
    "    weather_data: Convert the API response to JSON format.\n",
    "    Extract the temperature from the JSON response using weather_data['main']['temp'].\n",
    "    \n",
    "\n",
    "Printing Temperature from OpenWeatherMap API:\n",
    "    Print the temperature obtained from the OpenWeatherMap API.\n",
    "\n",
    "\n",
    "Using PyOWM Library:\n",
    "    Initialize PyOWM with the API key.\n",
    "    Create a weather manager instance.\n",
    "    Get weather observation for the specified city using weather_manager.weather_at_place.\n",
    "    Extract the temperature from the PyOWM response using weather.temperature(unit='celsius')['temp'].\n",
    "\n",
    "\n",
    "Printing Temperature from PyOWM:\n",
    "    Print the temperature obtained from PyOWM.\n",
    "\"\"\""
   ]
  },
  {
   "cell_type": "markdown",
   "metadata": {},
   "source": [
    "### Code"
   ]
  },
  {
   "cell_type": "code",
   "execution_count": 3,
   "metadata": {},
   "outputs": [],
   "source": [
    "import requests\n",
    "from pyowm import OWM"
   ]
  },
  {
   "cell_type": "code",
   "execution_count": 4,
   "metadata": {},
   "outputs": [],
   "source": [
    "# کلید API OpenWeatherMap\n",
    "api_key = \"9adced7ddff5c6dc7f031455d3dec00e\""
   ]
  },
  {
   "cell_type": "code",
   "execution_count": 5,
   "metadata": {},
   "outputs": [],
   "source": [
    "# آدرس پایه API OpenWeatherMap\n",
    "base_url = \"http://api.openweathermap.org/data/2.5/weather?\""
   ]
  },
  {
   "cell_type": "code",
   "execution_count": 18,
   "metadata": {},
   "outputs": [],
   "source": [
    "# دریافت نام شهر از کاربر\n",
    "city_name = input(\"نام شهر را وارد کنید: \")"
   ]
  },
  {
   "cell_type": "code",
   "execution_count": 7,
   "metadata": {},
   "outputs": [],
   "source": [
    "# ساختن URL کامل برای درخواست API OpenWeatherMap\n",
    "complete_url = base_url + \"appid=\" + api_key + \"&q=\" + city_name + \"&units=metric\"  "
   ]
  },
  {
   "cell_type": "code",
   "execution_count": 8,
   "metadata": {},
   "outputs": [
    {
     "name": "stdout",
     "output_type": "stream",
     "text": [
      "http://api.openweathermap.org/data/2.5/weather?appid=9adced7ddff5c6dc7f031455d3dec00e&q=tehran&units=metric\n"
     ]
    }
   ],
   "source": [
    "# چاپ URL کامل به عنوان مرجع\n",
    "print(complete_url)"
   ]
  },
  {
   "cell_type": "code",
   "execution_count": 9,
   "metadata": {},
   "outputs": [],
   "source": [
    "# ارسال درخواست به API OpenWeatherMap\n",
    "response = requests.get(complete_url)"
   ]
  },
  {
   "cell_type": "code",
   "execution_count": 10,
   "metadata": {},
   "outputs": [],
   "source": [
    "# تبدیل پاسخ به فرمت JSON\n",
    "weather_data = response.json()"
   ]
  },
  {
   "cell_type": "code",
   "execution_count": 11,
   "metadata": {},
   "outputs": [],
   "source": [
    "# استخراج دما از پاسخ JSON\n",
    "temperature = weather_data['main']['temp']"
   ]
  },
  {
   "cell_type": "code",
   "execution_count": 19,
   "metadata": {},
   "outputs": [
    {
     "name": "stdout",
     "output_type": "stream",
     "text": [
      "دما در شهر berlin: 5.67°C\n"
     ]
    }
   ],
   "source": [
    "# چاپ دما\n",
    "print(f'دما در شهر {city_name}: {temperature}°C')"
   ]
  },
  {
   "cell_type": "code",
   "execution_count": 13,
   "metadata": {},
   "outputs": [],
   "source": [
    "# مقداردهی اولیه به کتابخانه PyOWM با استفاده از کلید API\n",
    "owm = OWM(api_key)"
   ]
  },
  {
   "cell_type": "code",
   "execution_count": 14,
   "metadata": {},
   "outputs": [],
   "source": [
    "# ایجاد یک نمونه مدیریت‌کننده هواشناسی\n",
    "weather_manager = owm.weather_manager()"
   ]
  },
  {
   "cell_type": "code",
   "execution_count": 15,
   "metadata": {},
   "outputs": [],
   "source": [
    "# دریافت مشاهده هواشناسی برای شهر مشخص (برای مثال، تهران)\n",
    "observation = weather_manager.weather_at_place(city_name)\n",
    "weather = observation.weather"
   ]
  },
  {
   "cell_type": "code",
   "execution_count": 16,
   "metadata": {},
   "outputs": [],
   "source": [
    "# دریافت دما از پاسخ PyOWM\n",
    "pyowm_temperature = weather.temperature(unit='celsius')['temp']"
   ]
  },
  {
   "cell_type": "code",
   "execution_count": 21,
   "metadata": {},
   "outputs": [
    {
     "name": "stdout",
     "output_type": "stream",
     "text": [
      "دما در شهر berlin (با استفاده از PyOWM): 5.67°C\n"
     ]
    }
   ],
   "source": [
    "# چاپ دما به دست آمده از PyOWM\n",
    "print(f'دما در شهر {city_name} (با استفاده از PyOWM): {pyowm_temperature}°C')"
   ]
  }
 ],
 "metadata": {
  "kernelspec": {
   "display_name": "Python 3.8.8 64-bit",
   "language": "python",
   "name": "python3"
  },
  "language_info": {
   "codemirror_mode": {
    "name": "ipython",
    "version": 3
   },
   "file_extension": ".py",
   "mimetype": "text/x-python",
   "name": "python",
   "nbconvert_exporter": "python",
   "pygments_lexer": "ipython3",
   "version": "3.8.8"
  },
  "orig_nbformat": 4,
  "vscode": {
   "interpreter": {
    "hash": "570feb405e2e27c949193ac68f46852414290d515b0ba6e5d90d076ed2284471"
   }
  }
 },
 "nbformat": 4,
 "nbformat_minor": 2
}
